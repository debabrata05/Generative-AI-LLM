{
 "cells": [
  {
   "cell_type": "code",
   "execution_count": 17,
   "id": "01825b7a-289e-46a0-b720-65731209fbff",
   "metadata": {},
   "outputs": [],
   "source": [
    "# %pip install --upgrade pip\n",
    "# %pip install --disable-pip-version-check \\\n",
    "#     torch \\\n",
    "#     torchdata --quiet\n",
    "\n",
    "# %pip install \\\n",
    "#     transformers \\\n",
    "#     datasets  --quiet"
   ]
  },
  {
   "cell_type": "code",
   "execution_count": 1,
   "id": "27eff1fb-0c02-4bcd-aa64-f2b4c6ddb794",
   "metadata": {},
   "outputs": [
    {
     "name": "stderr",
     "output_type": "stream",
     "text": [
      "C:\\Users\\debab\\anaconda3\\envs\\genai\\lib\\site-packages\\tqdm\\auto.py:21: TqdmWarning: IProgress not found. Please update jupyter and ipywidgets. See https://ipywidgets.readthedocs.io/en/stable/user_install.html\n",
      "  from .autonotebook import tqdm as notebook_tqdm\n"
     ]
    }
   ],
   "source": [
    "from datasets import load_dataset\n",
    "from transformers import AutoModelForSeq2SeqLM\n",
    "from transformers import AutoTokenizer\n",
    "from transformers import GenerationConfig"
   ]
  },
  {
   "cell_type": "code",
   "execution_count": 2,
   "id": "72f5c93b-c226-4785-86ce-62ef7d9a4450",
   "metadata": {},
   "outputs": [],
   "source": [
    "dataset_name = 'knkarthick/dialogsum'\n",
    "data = load_dataset(dataset_name)"
   ]
  },
  {
   "cell_type": "code",
   "execution_count": 3,
   "id": "a66f40c4-bff1-4801-8ada-372d84448285",
   "metadata": {},
   "outputs": [],
   "source": [
    "example_indices = [40,200]\n",
    "dash_line = '-'.join(['' for i in range(100)])"
   ]
  },
  {
   "cell_type": "code",
   "execution_count": 4,
   "id": "d71c1e34-c712-4dd4-9103-8bab41ad1bef",
   "metadata": {},
   "outputs": [
    {
     "name": "stdout",
     "output_type": "stream",
     "text": [
      "---------------------------------------------------------------------------------------------------\n",
      "Example:  1\n",
      "---------------------------------------------------------------------------------------------------\n",
      "Input Dialog: \n",
      "#Person1#: What time is it, Tom?\n",
      "#Person2#: Just a minute. It's ten to nine by my watch.\n",
      "#Person1#: Is it? I had no idea it was so late. I must be off now.\n",
      "#Person2#: What's the hurry?\n",
      "#Person1#: I must catch the nine-thirty train.\n",
      "#Person2#: You've plenty of time yet. The railway station is very close. It won't take more than twenty minutes to get there.\n",
      "---------------------------------------------------------------------------------------------------\n",
      "Human Summary: \n",
      "#Person1# is in a hurry to catch a train. Tom tells #Person1# there is plenty of time.\n",
      "---------------------------------------------------------------------------------------------------\n",
      "Example:  2\n",
      "---------------------------------------------------------------------------------------------------\n",
      "Input Dialog: \n",
      "#Person1#: Have you considered upgrading your system?\n",
      "#Person2#: Yes, but I'm not sure what exactly I would need.\n",
      "#Person1#: You could consider adding a painting program to your software. It would allow you to make up your own flyers and banners for advertising.\n",
      "#Person2#: That would be a definite bonus.\n",
      "#Person1#: You might also want to upgrade your hardware because it is pretty outdated now.\n",
      "#Person2#: How can we do that?\n",
      "#Person1#: You'd probably need a faster processor, to begin with. And you also need a more powerful hard disc, more memory and a faster modem. Do you have a CD-ROM drive?\n",
      "#Person2#: No.\n",
      "#Person1#: Then you might want to add a CD-ROM drive too, because most new software programs are coming out on Cds.\n",
      "#Person2#: That sounds great. Thanks.\n",
      "---------------------------------------------------------------------------------------------------\n",
      "Human Summary: \n",
      "#Person1# teaches #Person2# how to upgrade software and hardware in #Person2#'s system.\n"
     ]
    }
   ],
   "source": [
    "for i, index in enumerate(example_indices):\n",
    "    print(dash_line)\n",
    "    print('Example: ', i + 1)\n",
    "    print(dash_line)\n",
    "    print('Input Dialog: ')\n",
    "    print(data['test'][index]['dialogue'])\n",
    "    print(dash_line)\n",
    "    print('Human Summary: ')\n",
    "    print(data['test'][index]['summary'])"
   ]
  },
  {
   "cell_type": "code",
   "execution_count": 5,
   "id": "a3721036-3df5-4c9b-a579-c5d6d1dc7c9d",
   "metadata": {},
   "outputs": [],
   "source": [
    "model_name = 'google/flan-t5-base'\n",
    "model = AutoModelForSeq2SeqLM.from_pretrained(model_name)"
   ]
  },
  {
   "cell_type": "code",
   "execution_count": 6,
   "id": "de9507bc-e960-440d-93d7-280d3cba84d7",
   "metadata": {},
   "outputs": [],
   "source": [
    "tokenizer = AutoTokenizer.from_pretrained(model_name, use_fast = True)"
   ]
  },
  {
   "cell_type": "code",
   "execution_count": 7,
   "id": "b407107d-0ea1-4935-9aa4-6a23b27e4c7f",
   "metadata": {},
   "outputs": [
    {
     "name": "stdout",
     "output_type": "stream",
     "text": [
      "Sentence Encoding: \n",
      "tensor([  27,  333, 5879,  312,    9, 1007,    1])\n",
      "Sentence Decoding: \n",
      "I love Machine Learing\n"
     ]
    }
   ],
   "source": [
    "## test tokenizer\n",
    "sent = 'I love Machine Learing'\n",
    "sent_encode = tokenizer(sent, return_tensors='pt')\n",
    "sent_decode = tokenizer.decode(sent_encode['input_ids'][0], \n",
    "                               skip_special_tokens=True)\n",
    "print('Sentence Encoding: ')\n",
    "print(sent_encode['input_ids'][0])\n",
    "print('Sentence Decoding: ')\n",
    "print(sent_decode)"
   ]
  },
  {
   "cell_type": "markdown",
   "id": "1a0c1d10-db07-4d87-8de3-48b7cb8a06f3",
   "metadata": {},
   "source": [
    "#### without promt engg"
   ]
  },
  {
   "cell_type": "code",
   "execution_count": 8,
   "id": "5c584e2c-7bf2-4322-8df2-645b115eca3f",
   "metadata": {},
   "outputs": [
    {
     "name": "stdout",
     "output_type": "stream",
     "text": [
      "---------------------------------------------------------------------------------------------------\n",
      "Example:  1\n",
      "---------------------------------------------------------------------------------------------------\n",
      "dialogue: \n",
      "#Person1#: What time is it, Tom?\n",
      "#Person2#: Just a minute. It's ten to nine by my watch.\n",
      "#Person1#: Is it? I had no idea it was so late. I must be off now.\n",
      "#Person2#: What's the hurry?\n",
      "#Person1#: I must catch the nine-thirty train.\n",
      "#Person2#: You've plenty of time yet. The railway station is very close. It won't take more than twenty minutes to get there.\n",
      "---------------------------------------------------------------------------------------------------\n",
      "Baseline Summary: \n",
      "#Person1# is in a hurry to catch a train. Tom tells #Person1# there is plenty of time.\n",
      "---------------------------------------------------------------------------------------------------\n",
      "Model Summary: \n",
      "Person1: It's ten to nine.\n",
      "---------------------------------------------------------------------------------------------------\n",
      "Example:  2\n",
      "---------------------------------------------------------------------------------------------------\n",
      "dialogue: \n",
      "#Person1#: Have you considered upgrading your system?\n",
      "#Person2#: Yes, but I'm not sure what exactly I would need.\n",
      "#Person1#: You could consider adding a painting program to your software. It would allow you to make up your own flyers and banners for advertising.\n",
      "#Person2#: That would be a definite bonus.\n",
      "#Person1#: You might also want to upgrade your hardware because it is pretty outdated now.\n",
      "#Person2#: How can we do that?\n",
      "#Person1#: You'd probably need a faster processor, to begin with. And you also need a more powerful hard disc, more memory and a faster modem. Do you have a CD-ROM drive?\n",
      "#Person2#: No.\n",
      "#Person1#: Then you might want to add a CD-ROM drive too, because most new software programs are coming out on Cds.\n",
      "#Person2#: That sounds great. Thanks.\n",
      "---------------------------------------------------------------------------------------------------\n",
      "Baseline Summary: \n",
      "#Person1# teaches #Person2# how to upgrade software and hardware in #Person2#'s system.\n",
      "---------------------------------------------------------------------------------------------------\n",
      "Model Summary: \n",
      "#Person1#: I'm thinking of upgrading my computer.\n"
     ]
    }
   ],
   "source": [
    "for i, index in enumerate(example_indices):\n",
    "    dialog = data['test'][index]['dialogue']\n",
    "    summary = data['test'][index]['summary']\n",
    "    input =  tokenizer(dialog, return_tensors='pt')\n",
    "    output = tokenizer.decode(model.generate(input['input_ids'],\n",
    "                                             max_new_tokens = 50)[0],\n",
    "                              skip_special_tokens=True)\n",
    "    print(dash_line)\n",
    "    print('Example: ', i + 1)\n",
    "    print(dash_line)\n",
    "    print('dialogue: ')\n",
    "    print(dialog)\n",
    "    print(dash_line)\n",
    "    print('Baseline Summary: ')\n",
    "    print(summary)\n",
    "    print(dash_line)\n",
    "    print('Model Summary: ')\n",
    "    print(output)"
   ]
  },
  {
   "cell_type": "markdown",
   "id": "f75c59e4-b09c-4884-af01-44456ac01ae7",
   "metadata": {},
   "source": [
    "#### prompt engg - zero shot inferencing"
   ]
  },
  {
   "cell_type": "code",
   "execution_count": 9,
   "id": "09d05aa5-c562-40b0-9fbd-1ca0444306bc",
   "metadata": {},
   "outputs": [],
   "source": [
    "def prompt_fun(example_indices_to_pass, example_indices_to_summarize, input = 'dialogue:', task = 'whats was going on?'):\n",
    "    prompt = ''\n",
    "    for index in example_indices_to_pass:\n",
    "        dialogue = data['test'][index]['dialogue']\n",
    "        summary = data['test'][index]['summary']\n",
    "        prompt += f\"\"\" \n",
    "                    {input} \n",
    "                    {dialogue}\n",
    "                    {task}\n",
    "                    {summary}\n",
    "                  \"\"\"\n",
    "    dialogue = data['test'][example_indices_to_summarize]['dialogue']\n",
    "    prompt += f\"\"\" \n",
    "                {input} \n",
    "                {dialogue}\n",
    "                {task}\n",
    "              \"\"\"\n",
    "    return prompt"
   ]
  },
  {
   "cell_type": "code",
   "execution_count": 10,
   "id": "dfdffd6f-2cb3-4e2b-922c-557ea5131caf",
   "metadata": {},
   "outputs": [
    {
     "name": "stdout",
     "output_type": "stream",
     "text": [
      "---------------------------------------------------------------------------------------------------\n",
      "Example:  1\n",
      "---------------------------------------------------------------------------------------------------\n",
      "dialogue: \n",
      "#Person1#: What time is it, Tom?\n",
      "#Person2#: Just a minute. It's ten to nine by my watch.\n",
      "#Person1#: Is it? I had no idea it was so late. I must be off now.\n",
      "#Person2#: What's the hurry?\n",
      "#Person1#: I must catch the nine-thirty train.\n",
      "#Person2#: You've plenty of time yet. The railway station is very close. It won't take more than twenty minutes to get there.\n",
      "---------------------------------------------------------------------------------------------------\n",
      "Baseline Summary: \n",
      "#Person1# is in a hurry to catch a train. Tom tells #Person1# there is plenty of time.\n",
      "---------------------------------------------------------------------------------------------------\n",
      "Model Summary: \n",
      "The train is about to leave.\n",
      "---------------------------------------------------------------------------------------------------\n",
      "Example:  2\n",
      "---------------------------------------------------------------------------------------------------\n",
      "dialogue: \n",
      "#Person1#: Have you considered upgrading your system?\n",
      "#Person2#: Yes, but I'm not sure what exactly I would need.\n",
      "#Person1#: You could consider adding a painting program to your software. It would allow you to make up your own flyers and banners for advertising.\n",
      "#Person2#: That would be a definite bonus.\n",
      "#Person1#: You might also want to upgrade your hardware because it is pretty outdated now.\n",
      "#Person2#: How can we do that?\n",
      "#Person1#: You'd probably need a faster processor, to begin with. And you also need a more powerful hard disc, more memory and a faster modem. Do you have a CD-ROM drive?\n",
      "#Person2#: No.\n",
      "#Person1#: Then you might want to add a CD-ROM drive too, because most new software programs are coming out on Cds.\n",
      "#Person2#: That sounds great. Thanks.\n",
      "---------------------------------------------------------------------------------------------------\n",
      "Baseline Summary: \n",
      "#Person1# teaches #Person2# how to upgrade software and hardware in #Person2#'s system.\n",
      "---------------------------------------------------------------------------------------------------\n",
      "Model Summary: \n",
      "#Person1: Have you considered upgrading your system?\n"
     ]
    }
   ],
   "source": [
    "for i, index in enumerate(example_indices):\n",
    "    prompt = prompt_fun([], index, input = 'summarize the following conversations :', task = 'summary :')\n",
    "    input =  tokenizer(prompt, return_tensors='pt')\n",
    "    output = tokenizer.decode(model.generate(input['input_ids'],\n",
    "                                             max_new_tokens = 50)[0],\n",
    "                              skip_special_tokens=True)\n",
    "    print(dash_line)\n",
    "    print('Example: ', i + 1)\n",
    "    print(dash_line)\n",
    "    print('dialogue: ')\n",
    "    print(data['test'][index]['dialogue'])\n",
    "    print(dash_line)\n",
    "    print('Baseline Summary: ')\n",
    "    print(data['test'][index]['summary'])\n",
    "    print(dash_line)\n",
    "    print('Model Summary: ')\n",
    "    print(output)"
   ]
  },
  {
   "cell_type": "code",
   "execution_count": 11,
   "id": "960cf3fe-ad95-4836-a36d-a35b017ef7b4",
   "metadata": {},
   "outputs": [
    {
     "name": "stdout",
     "output_type": "stream",
     "text": [
      "---------------------------------------------------------------------------------------------------\n",
      "Example:  1\n",
      "---------------------------------------------------------------------------------------------------\n",
      "dialogue: \n",
      "#Person1#: What time is it, Tom?\n",
      "#Person2#: Just a minute. It's ten to nine by my watch.\n",
      "#Person1#: Is it? I had no idea it was so late. I must be off now.\n",
      "#Person2#: What's the hurry?\n",
      "#Person1#: I must catch the nine-thirty train.\n",
      "#Person2#: You've plenty of time yet. The railway station is very close. It won't take more than twenty minutes to get there.\n",
      "---------------------------------------------------------------------------------------------------\n",
      "Baseline Summary: \n",
      "#Person1# is in a hurry to catch a train. Tom tells #Person1# there is plenty of time.\n",
      "---------------------------------------------------------------------------------------------------\n",
      "Model Summary: \n",
      "Tom is late for work. He has to catch the nine-thirty train.\n",
      "---------------------------------------------------------------------------------------------------\n",
      "Example:  2\n",
      "---------------------------------------------------------------------------------------------------\n",
      "dialogue: \n",
      "#Person1#: Have you considered upgrading your system?\n",
      "#Person2#: Yes, but I'm not sure what exactly I would need.\n",
      "#Person1#: You could consider adding a painting program to your software. It would allow you to make up your own flyers and banners for advertising.\n",
      "#Person2#: That would be a definite bonus.\n",
      "#Person1#: You might also want to upgrade your hardware because it is pretty outdated now.\n",
      "#Person2#: How can we do that?\n",
      "#Person1#: You'd probably need a faster processor, to begin with. And you also need a more powerful hard disc, more memory and a faster modem. Do you have a CD-ROM drive?\n",
      "#Person2#: No.\n",
      "#Person1#: Then you might want to add a CD-ROM drive too, because most new software programs are coming out on Cds.\n",
      "#Person2#: That sounds great. Thanks.\n",
      "---------------------------------------------------------------------------------------------------\n",
      "Baseline Summary: \n",
      "#Person1# teaches #Person2# how to upgrade software and hardware in #Person2#'s system.\n",
      "---------------------------------------------------------------------------------------------------\n",
      "Model Summary: \n",
      "#Person1#: You might want to upgrade your system. #Person2#: You could also add a painting program to your software. #Person1#: You could also add a faster processor, more memory and\n"
     ]
    }
   ],
   "source": [
    "for i, index in enumerate(example_indices):\n",
    "    prompt = prompt_fun([], index)\n",
    "    input =  tokenizer(prompt, return_tensors='pt')\n",
    "    output = tokenizer.decode(model.generate(input['input_ids'],\n",
    "                                             max_new_tokens = 50)[0],\n",
    "                              skip_special_tokens=True)\n",
    "    print(dash_line)\n",
    "    print('Example: ', i + 1)\n",
    "    print(dash_line)\n",
    "    print('dialogue: ')\n",
    "    print(data['test'][index]['dialogue'])\n",
    "    print(dash_line)\n",
    "    print('Baseline Summary: ')\n",
    "    print(data['test'][index]['summary'])\n",
    "    print(dash_line)\n",
    "    print('Model Summary: ')\n",
    "    print(output)"
   ]
  },
  {
   "cell_type": "markdown",
   "id": "81b4179a-f167-42ae-831a-60771bab8181",
   "metadata": {},
   "source": [
    "#### prompt engg - one shot inferencing"
   ]
  },
  {
   "cell_type": "code",
   "execution_count": 12,
   "id": "2983007d-07b1-4768-ae97-7845755afe82",
   "metadata": {},
   "outputs": [
    {
     "name": "stdout",
     "output_type": "stream",
     "text": [
      "---------------------------------------------------------------------------------------------------\n",
      "dialogue: \n",
      "#Person1#: Have you considered upgrading your system?\n",
      "#Person2#: Yes, but I'm not sure what exactly I would need.\n",
      "#Person1#: You could consider adding a painting program to your software. It would allow you to make up your own flyers and banners for advertising.\n",
      "#Person2#: That would be a definite bonus.\n",
      "#Person1#: You might also want to upgrade your hardware because it is pretty outdated now.\n",
      "#Person2#: How can we do that?\n",
      "#Person1#: You'd probably need a faster processor, to begin with. And you also need a more powerful hard disc, more memory and a faster modem. Do you have a CD-ROM drive?\n",
      "#Person2#: No.\n",
      "#Person1#: Then you might want to add a CD-ROM drive too, because most new software programs are coming out on Cds.\n",
      "#Person2#: That sounds great. Thanks.\n",
      "---------------------------------------------------------------------------------------------------\n",
      "Baseline Summary: \n",
      "#Person1# teaches #Person2# how to upgrade software and hardware in #Person2#'s system.\n",
      "---------------------------------------------------------------------------------------------------\n",
      "Model Summary: \n",
      "#Person1#: You could upgrade your system. #Person2#: You could also add a painting program to your software. #Person1#: You could also add a faster processor, more memory and a\n"
     ]
    }
   ],
   "source": [
    "example_indices_to_pass = [40]\n",
    "example_indices_to_summarize = 200\n",
    "\n",
    "prompt = prompt_fun(example_indices_to_pass, example_indices_to_summarize)\n",
    "input =  tokenizer(prompt, return_tensors='pt')\n",
    "output = tokenizer.decode(model.generate(input['input_ids'],\n",
    "                                         max_new_tokens = 50)[0],\n",
    "                          skip_special_tokens=True)\n",
    "print(dash_line)\n",
    "print('dialogue: ')\n",
    "print(data['test'][example_indices_to_summarize]['dialogue'])\n",
    "print(dash_line)\n",
    "print('Baseline Summary: ')\n",
    "print(data['test'][example_indices_to_summarize]['summary'])\n",
    "print(dash_line)\n",
    "print('Model Summary: ')\n",
    "print(output)"
   ]
  },
  {
   "cell_type": "markdown",
   "id": "8958131c-b446-409a-a0d7-865ea4158119",
   "metadata": {},
   "source": [
    "#### prompt engg - Few shot inferencing"
   ]
  },
  {
   "cell_type": "code",
   "execution_count": 13,
   "id": "a76f2188-1a03-471b-a9b0-454228470962",
   "metadata": {},
   "outputs": [
    {
     "name": "stderr",
     "output_type": "stream",
     "text": [
      "Token indices sequence length is longer than the specified maximum sequence length for this model (850 > 512). Running this sequence through the model will result in indexing errors\n"
     ]
    },
    {
     "name": "stdout",
     "output_type": "stream",
     "text": [
      "---------------------------------------------------------------------------------------------------\n",
      "dialogue: \n",
      "#Person1#: Have you considered upgrading your system?\n",
      "#Person2#: Yes, but I'm not sure what exactly I would need.\n",
      "#Person1#: You could consider adding a painting program to your software. It would allow you to make up your own flyers and banners for advertising.\n",
      "#Person2#: That would be a definite bonus.\n",
      "#Person1#: You might also want to upgrade your hardware because it is pretty outdated now.\n",
      "#Person2#: How can we do that?\n",
      "#Person1#: You'd probably need a faster processor, to begin with. And you also need a more powerful hard disc, more memory and a faster modem. Do you have a CD-ROM drive?\n",
      "#Person2#: No.\n",
      "#Person1#: Then you might want to add a CD-ROM drive too, because most new software programs are coming out on Cds.\n",
      "#Person2#: That sounds great. Thanks.\n",
      "---------------------------------------------------------------------------------------------------\n",
      "Baseline Summary: \n",
      "#Person1# teaches #Person2# how to upgrade software and hardware in #Person2#'s system.\n",
      "---------------------------------------------------------------------------------------------------\n",
      "Model Summary: \n",
      "#Person1#: You could add a painting program to your software. #Person2#: That would be a bonus. #Person1#: You might also want to upgrade your hardware because it is pretty outdated now\n"
     ]
    }
   ],
   "source": [
    "example_indices_to_pass = [18, 40, 180] ## generally 3-5 are best to check max efficiency of model\n",
    "example_indices_to_summarize = 200\n",
    "\n",
    "prompt = prompt_fun(example_indices_to_pass, example_indices_to_summarize)\n",
    "input =  tokenizer(prompt, return_tensors='pt')\n",
    "output = tokenizer.decode(model.generate(input['input_ids'],\n",
    "                                         max_new_tokens = 50)[0],\n",
    "                          skip_special_tokens=True)\n",
    "print(dash_line)\n",
    "print('dialogue: ')\n",
    "print(data['test'][example_indices_to_summarize]['dialogue'])\n",
    "print(dash_line)\n",
    "print('Baseline Summary: ')\n",
    "print(data['test'][example_indices_to_summarize]['summary'])\n",
    "print(dash_line)\n",
    "print('Model Summary: ')\n",
    "print(output)"
   ]
  },
  {
   "cell_type": "markdown",
   "id": "7dcc4a98-b718-46a9-a433-92c8880b7b35",
   "metadata": {},
   "source": [
    "#### generative configuration parameters inferencing"
   ]
  },
  {
   "cell_type": "code",
   "execution_count": 14,
   "id": "90a73dc1-238c-490a-9013-ae868ca0afcb",
   "metadata": {},
   "outputs": [],
   "source": [
    "generation_config = GenerationConfig(new_max_tokens = 50, \n",
    "                                     do_sample = True, #default = false\n",
    "                                     temperature = 0.5, #default = 1.0\n",
    "                                     top_k = 50, #default = 50\n",
    "                                     top_p = 1.0)#default = 1.0"
   ]
  },
  {
   "cell_type": "code",
   "execution_count": 15,
   "id": "5d35025e-9c59-47f1-b135-a823b407d3d0",
   "metadata": {},
   "outputs": [
    {
     "name": "stdout",
     "output_type": "stream",
     "text": [
      "---------------------------------------------------------------------------------------------------\n",
      "dialogue: \n",
      "#Person1#: Have you considered upgrading your system?\n",
      "#Person2#: Yes, but I'm not sure what exactly I would need.\n",
      "#Person1#: You could consider adding a painting program to your software. It would allow you to make up your own flyers and banners for advertising.\n",
      "#Person2#: That would be a definite bonus.\n",
      "#Person1#: You might also want to upgrade your hardware because it is pretty outdated now.\n",
      "#Person2#: How can we do that?\n",
      "#Person1#: You'd probably need a faster processor, to begin with. And you also need a more powerful hard disc, more memory and a faster modem. Do you have a CD-ROM drive?\n",
      "#Person2#: No.\n",
      "#Person1#: Then you might want to add a CD-ROM drive too, because most new software programs are coming out on Cds.\n",
      "#Person2#: That sounds great. Thanks.\n",
      "---------------------------------------------------------------------------------------------------\n",
      "Baseline Summary: \n",
      "#Person1# teaches #Person2# how to upgrade software and hardware in #Person2#'s system.\n",
      "---------------------------------------------------------------------------------------------------\n",
      "Model Summary: \n",
      "#Person1 wants to upgrade his system. #Person2 considers upgrading his hardware. #Person1 recommends a CD-ROM drive.\n"
     ]
    }
   ],
   "source": [
    "example_indices_to_pass = [40]\n",
    "example_indices_to_summarize = 200\n",
    "\n",
    "prompt = prompt_fun(example_indices_to_pass, example_indices_to_summarize)\n",
    "input =  tokenizer(prompt, return_tensors='pt')\n",
    "output = tokenizer.decode(model.generate(input['input_ids'],\n",
    "                                         max_new_tokens = 50, \n",
    "                                         generation_config = generation_config)[0],\n",
    "                          skip_special_tokens=True)\n",
    "print(dash_line)\n",
    "print('dialogue: ')\n",
    "print(data['test'][example_indices_to_summarize]['dialogue'])\n",
    "print(dash_line)\n",
    "print('Baseline Summary: ')\n",
    "print(data['test'][example_indices_to_summarize]['summary'])\n",
    "print(dash_line)\n",
    "print('Model Summary: ')\n",
    "print(output)"
   ]
  },
  {
   "cell_type": "code",
   "execution_count": null,
   "id": "6ed9a968-34e7-48c2-bcea-a0f2a96d1f36",
   "metadata": {},
   "outputs": [],
   "source": []
  }
 ],
 "metadata": {
  "kernelspec": {
   "display_name": "Python 3 (ipykernel)",
   "language": "python",
   "name": "python3"
  },
  "language_info": {
   "codemirror_mode": {
    "name": "ipython",
    "version": 3
   },
   "file_extension": ".py",
   "mimetype": "text/x-python",
   "name": "python",
   "nbconvert_exporter": "python",
   "pygments_lexer": "ipython3",
   "version": "3.9.18"
  }
 },
 "nbformat": 4,
 "nbformat_minor": 5
}
